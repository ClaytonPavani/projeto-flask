{
  "cells": [
    {
      "cell_type": "markdown",
      "metadata": {
        "id": "view-in-github",
        "colab_type": "text"
      },
      "source": [
        "<a href=\"https://colab.research.google.com/github/ClaytonPavani/projeto-flask/blob/main/entrega-projeto-flask.ipynb\" target=\"_parent\"><img src=\"https://colab.research.google.com/assets/colab-badge.svg\" alt=\"Open In Colab\"/></a>"
      ]
    },
    {
      "cell_type": "markdown",
      "source": [
        "Instalando a BIBLIOTECA - FLASK"
      ],
      "metadata": {
        "id": "x8F6NcJF-SaF"
      }
    },
    {
      "cell_type": "code",
      "source": [
        "!pip install flask_ngrok"
      ],
      "metadata": {
        "colab": {
          "base_uri": "https://localhost:8080/"
        },
        "id": "vtcRWA9c-QD6",
        "outputId": "90f6af81-51c9-4198-81b0-0c04d34f6594"
      },
      "execution_count": 1,
      "outputs": [
        {
          "output_type": "stream",
          "name": "stdout",
          "text": [
            "Collecting flask_ngrok\n",
            "  Downloading flask_ngrok-0.0.25-py3-none-any.whl (3.1 kB)\n",
            "Requirement already satisfied: Flask>=0.8 in /usr/local/lib/python3.10/dist-packages (from flask_ngrok) (2.2.5)\n",
            "Requirement already satisfied: requests in /usr/local/lib/python3.10/dist-packages (from flask_ngrok) (2.27.1)\n",
            "Requirement already satisfied: Werkzeug>=2.2.2 in /usr/local/lib/python3.10/dist-packages (from Flask>=0.8->flask_ngrok) (2.3.6)\n",
            "Requirement already satisfied: Jinja2>=3.0 in /usr/local/lib/python3.10/dist-packages (from Flask>=0.8->flask_ngrok) (3.1.2)\n",
            "Requirement already satisfied: itsdangerous>=2.0 in /usr/local/lib/python3.10/dist-packages (from Flask>=0.8->flask_ngrok) (2.1.2)\n",
            "Requirement already satisfied: click>=8.0 in /usr/local/lib/python3.10/dist-packages (from Flask>=0.8->flask_ngrok) (8.1.6)\n",
            "Requirement already satisfied: urllib3<1.27,>=1.21.1 in /usr/local/lib/python3.10/dist-packages (from requests->flask_ngrok) (1.26.16)\n",
            "Requirement already satisfied: certifi>=2017.4.17 in /usr/local/lib/python3.10/dist-packages (from requests->flask_ngrok) (2023.7.22)\n",
            "Requirement already satisfied: charset-normalizer~=2.0.0 in /usr/local/lib/python3.10/dist-packages (from requests->flask_ngrok) (2.0.12)\n",
            "Requirement already satisfied: idna<4,>=2.5 in /usr/local/lib/python3.10/dist-packages (from requests->flask_ngrok) (3.4)\n",
            "Requirement already satisfied: MarkupSafe>=2.0 in /usr/local/lib/python3.10/dist-packages (from Jinja2>=3.0->Flask>=0.8->flask_ngrok) (2.1.3)\n",
            "Installing collected packages: flask_ngrok\n",
            "Successfully installed flask_ngrok-0.0.25\n"
          ]
        }
      ]
    },
    {
      "cell_type": "markdown",
      "source": [
        "Importando as **Bibliotecas** que vamos usar nesse projeto: Pandas, NGROK, JSONIFY, FLASK"
      ],
      "metadata": {
        "id": "x20119qY-aqS"
      }
    },
    {
      "cell_type": "code",
      "source": [
        "import pandas as pd\n",
        "from flask_ngrok import run_with_ngrok\n",
        "from flask import request, jsonify, Flask\n",
        "import random as rk"
      ],
      "metadata": {
        "id": "ivOlBUHT-fh-"
      },
      "execution_count": 2,
      "outputs": []
    },
    {
      "cell_type": "markdown",
      "source": [
        "Nome do Pacote de Aplicativos e Run_With_Ngrok"
      ],
      "metadata": {
        "id": "3SaQGURl-vIp"
      }
    },
    {
      "cell_type": "code",
      "source": [
        "app = Flask(__name__) #Definição do Nome do Aplicativo\n",
        "run_with_ngrok(app)"
      ],
      "metadata": {
        "id": "fXdx7Df0-m42"
      },
      "execution_count": 3,
      "outputs": []
    },
    {
      "cell_type": "markdown",
      "source": [
        "Criação da Tabela em JSON - Aqui usamos Dicionários para inserir os dados, os tipos usados foram INTEGERS & Strings"
      ],
      "metadata": {
        "id": "G2_UaJqE-2ej"
      }
    },
    {
      "cell_type": "code",
      "source": [
        "tabela = {\n",
        "    \"Numero\": [1, 2, 3, 4, 5],\n",
        "    \"Nome\": [\"Mahesh\", \"Alex\", \"David\", \"John\", \"Chris\"],\n",
        "    \"Idade\": [25, 26, 27, 28, 29],\n",
        "    \"Cidade\": [\"Bangalore\", \"Londres\", \"Sao Francisco\", \"Toronto\", \"Paris\"],\n",
        "    \"Paises\": [\"India\", \"Inglaterra\", \"Estados Unidos\", \"Canada\", \"Franca\"]\n",
        "}"
      ],
      "metadata": {
        "id": "sa8Pshlv-6H5"
      },
      "execution_count": 4,
      "outputs": []
    },
    {
      "cell_type": "markdown",
      "source": [
        "Criando o DECORADOR, que será a ROTA para a nossa função HOME."
      ],
      "metadata": {
        "id": "lekc7RoI_cMU"
      }
    },
    {
      "cell_type": "code",
      "source": [
        "@app.route(\"/\") #Definimos uma URL para designar a HomePage da nossa função que vamos criar abaixo\n",
        "\n",
        "def home():\n",
        "  return \"<marquee><h3> TO CHECK IN PUT ADD '/input' TO THE URL AND TO CHECK OUT PUT ADD '/output' TO THE URL.</h3></marquee>\""
      ],
      "metadata": {
        "id": "Edind4ct_IAu"
      },
      "execution_count": 5,
      "outputs": []
    },
    {
      "cell_type": "markdown",
      "source": [
        "Agora vamos Criar a **ROTA** para definir a página URL /input que iremos inserir nossa tabela para retornar o código JSON que criamos na variável tabela\n"
      ],
      "metadata": {
        "id": "V-VIyUMi_iQR"
      }
    },
    {
      "cell_type": "code",
      "source": [
        "@app.route(\"/input\") #Rota designada para nossa URL INPUT, referente a nossa função INPUT.\n",
        "\n",
        "def input():\n",
        "  return jsonify(tabela) # aqui vamos retornar a tabela que criamos"
      ],
      "metadata": {
        "id": "5ckrCPSi_gR4"
      },
      "execution_count": 6,
      "outputs": []
    },
    {
      "cell_type": "markdown",
      "source": [
        "Definindo uma ROTA com os métodos de output"
      ],
      "metadata": {
        "id": "wVv0atrI_-gr"
      }
    },
    {
      "cell_type": "code",
      "source": [
        "@app.route('/output', methods=['GET','POST']) #output page\n",
        "\n",
        "def predJson():\n",
        " pred = r.choice([\"positive\",\"negative\"])\n",
        " nd = d # our input\n",
        " nd[\"prediction\"]=pred\n",
        " return jsonify(nd)\n",
        "\n",
        "app.run()"
      ],
      "metadata": {
        "colab": {
          "base_uri": "https://localhost:8080/"
        },
        "id": "FKZHm_Kt_-0f",
        "outputId": "9459a2de-38e5-45d9-9f78-70ea876a794f"
      },
      "execution_count": null,
      "outputs": [
        {
          "output_type": "stream",
          "name": "stdout",
          "text": [
            " * Serving Flask app '__main__'\n",
            " * Debug mode: off\n"
          ]
        },
        {
          "output_type": "stream",
          "name": "stderr",
          "text": [
            "INFO:werkzeug:\u001b[31m\u001b[1mWARNING: This is a development server. Do not use it in a production deployment. Use a production WSGI server instead.\u001b[0m\n",
            " * Running on http://127.0.0.1:5000\n",
            "INFO:werkzeug:\u001b[33mPress CTRL+C to quit\u001b[0m\n"
          ]
        },
        {
          "output_type": "stream",
          "name": "stdout",
          "text": [
            " * Running on http://2dff-34-85-131-47.ngrok.io\n",
            " * Traffic stats available on http://127.0.0.1:4040\n"
          ]
        },
        {
          "output_type": "stream",
          "name": "stderr",
          "text": [
            "INFO:werkzeug:127.0.0.1 - - [27/Jul/2023 01:42:50] \"GET / HTTP/1.1\" 200 -\n",
            "INFO:werkzeug:127.0.0.1 - - [27/Jul/2023 01:42:50] \"\u001b[33mGET /static/EuclidSquare-Medium-WebS.woff HTTP/1.1\u001b[0m\" 404 -\n",
            "INFO:werkzeug:127.0.0.1 - - [27/Jul/2023 01:42:50] \"\u001b[33mGET /static/EuclidSquare-Regular-WebS.woff HTTP/1.1\u001b[0m\" 404 -\n",
            "INFO:werkzeug:127.0.0.1 - - [27/Jul/2023 01:42:50] \"\u001b[33mGET /static/IBMPlexMono-SemiBoldItalic.woff HTTP/1.1\u001b[0m\" 404 -\n",
            "INFO:werkzeug:127.0.0.1 - - [27/Jul/2023 01:42:50] \"\u001b[33mGET /static/IBMPlexMono-SemiBold.woff HTTP/1.1\u001b[0m\" 404 -\n",
            "INFO:werkzeug:127.0.0.1 - - [27/Jul/2023 01:42:51] \"\u001b[33mGET /static/IBMPlexMono-TextItalic.woff HTTP/1.1\u001b[0m\" 404 -\n",
            "INFO:werkzeug:127.0.0.1 - - [27/Jul/2023 01:42:51] \"\u001b[33mGET /favicon.ico HTTP/1.1\u001b[0m\" 404 -\n",
            "INFO:werkzeug:127.0.0.1 - - [27/Jul/2023 01:42:51] \"\u001b[33mGET /static/IBMPlexMono-Text.woff HTTP/1.1\u001b[0m\" 404 -\n",
            "INFO:werkzeug:127.0.0.1 - - [27/Jul/2023 01:42:51] \"\u001b[33mGET /static/EuclidSquare-MediumItalic-WebS.woff HTTP/1.1\u001b[0m\" 404 -\n",
            "INFO:werkzeug:127.0.0.1 - - [27/Jul/2023 01:42:51] \"\u001b[33mGET /static/EuclidSquare-RegularItalic-WebS.woff HTTP/1.1\u001b[0m\" 404 -\n",
            "INFO:werkzeug:127.0.0.1 - - [27/Jul/2023 01:42:55] \"GET /input HTTP/1.1\" 200 -\n",
            "INFO:werkzeug:127.0.0.1 - - [27/Jul/2023 01:42:55] \"\u001b[33mGET /favicon.ico HTTP/1.1\u001b[0m\" 404 -\n",
            "INFO:werkzeug:127.0.0.1 - - [27/Jul/2023 01:45:31] \"GET /input HTTP/1.1\" 200 -\n",
            "INFO:werkzeug:127.0.0.1 - - [27/Jul/2023 01:45:32] \"\u001b[33mGET /favicon.ico HTTP/1.1\u001b[0m\" 404 -\n"
          ]
        }
      ]
    }
  ],
  "metadata": {
    "colab": {
      "provenance": [],
      "authorship_tag": "ABX9TyObYLPP4Q55BlBtB6veGps+",
      "include_colab_link": true
    },
    "kernelspec": {
      "display_name": "Python 3",
      "name": "python3"
    },
    "language_info": {
      "name": "python"
    }
  },
  "nbformat": 4,
  "nbformat_minor": 0
}